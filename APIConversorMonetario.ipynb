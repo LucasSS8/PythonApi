{
 "cells": [
  {
   "cell_type": "code",
   "execution_count": 2,
   "id": "8029f109",
   "metadata": {},
   "outputs": [
    {
     "ename": "",
     "evalue": "",
     "output_type": "error",
     "traceback": [
      "O Kernel falhou ao executar o código na célula atual ou em uma célula anterior. Examine o código nas células para identificar uma possível causa da falha. Clique <a href=\"https://aka.ms/vscodeJupyterKernelCrash\">aqui</a> para obter mais informações. Consulte o <a href='command:jupyter.viewOutput'>log</a> do Jupyter para obter mais detalhes."
     ]
    }
   ],
   "source": [
    "#Bibliotecas\n",
    "import cv2\n",
    "import mediapipe as mp\n",
    "\n",
    "#inicializar o opencv e o mediapipe\n",
    "webcam = cv2.VideoCapture(0)\n",
    "\n",
    "#solução pronta do mediapipe de reconhecimento\n",
    "solucao_reconhecimento_rosto = mp.solutions.face_detection\n",
    "#elemento que será o reconhecedor item do python\n",
    "reconhecedor_rostos = solucao_reconhecimento_rosto.FaceDetection()\n",
    "#desenho das marcações\n",
    "desenho=mp.solutions.drawing_utils\n",
    "\n",
    "#looping para infinitamente verificar se em cada frame existe um rosto\n",
    "while True:\n",
    "    #Ler as informações da Webcam\n",
    "    #a funcção vai retornar 2 informações, o verificador do tipo boolean que informaa se a informação foi obtida\n",
    "    #com sucesso da webcam, caso seja verdadeiro a verificação ele irá jogar dentro do frame a imgem capturada.\n",
    "    verificador, frame = webcam.read()\n",
    "    if not verificador:\n",
    "        break\n",
    "\n",
    "    #Reconhecer os rostos dentro dos frames\n",
    "    lista_rostos = reconhecedor_rostos.process(frame)\n",
    "\n",
    "    if lista_rostos.detections: #verificando se existe algum rosto\n",
    "        for rosto in lista_rostos.detections: #para cada rosto que existir nesta lista\n",
    "            #Desenhar os rostos na imagem\n",
    "            desenho.draw_detection(frame, rosto)#onde será realizado o denhos , o que será desenhado\n",
    "\n",
    "    #exibindo o resultados dos frames e dos desenhos        \n",
    "    cv2.imshow(\"Rostos na Webcam\", frame)        \n",
    "    \n",
    "    #quando ESC, para o loop\n",
    "     # wait key espera uma entrada do teclado, se neste caso for a tecla de codigo 27(esc) ele interrompe o programa\n",
    "    if cv2.waitKey(5) == 27: \n",
    "        break\n",
    "\n",
    "#fechando a webcam - Close file* ( exemplo em cobol)\n",
    "webcam.release()\n",
    "cv2.destroyAllWindows()\n"
   ]
  },
  {
   "cell_type": "code",
   "execution_count": null,
   "id": "e5173e99",
   "metadata": {},
   "outputs": [],
   "source": []
  }
 ],
 "metadata": {
  "kernelspec": {
   "display_name": "Python 3.10.5 64-bit",
   "language": "python",
   "name": "python3"
  },
  "language_info": {
   "codemirror_mode": {
    "name": "ipython",
    "version": 3
   },
   "file_extension": ".py",
   "mimetype": "text/x-python",
   "name": "python",
   "nbconvert_exporter": "python",
   "pygments_lexer": "ipython3",
   "version": "3.10.5"
  },
  "vscode": {
   "interpreter": {
    "hash": "37083a178839ddb6837eca99e3841ef7be6dad5dc50c6d19829e2187d61ddd5d"
   }
  }
 },
 "nbformat": 4,
 "nbformat_minor": 5
}
