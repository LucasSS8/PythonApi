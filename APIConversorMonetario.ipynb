{
 "cells": [
  {
   "cell_type": "code",
   "execution_count": 1,
   "id": "934b2b1d",
   "metadata": {},
   "outputs": [
    {
     "name": "stdout",
     "output_type": "stream",
     "text": [
      "Requirement already satisfied: requests in d:\\programas\\anaconda\\lib\\site-packages (2.27.1)\n",
      "Requirement already satisfied: certifi>=2017.4.17 in d:\\programas\\anaconda\\lib\\site-packages (from requests) (2021.10.8)\n",
      "Requirement already satisfied: charset-normalizer~=2.0.0 in d:\\programas\\anaconda\\lib\\site-packages (from requests) (2.0.4)\n",
      "Requirement already satisfied: idna<4,>=2.5 in d:\\programas\\anaconda\\lib\\site-packages (from requests) (3.3)\n",
      "Requirement already satisfied: urllib3<1.27,>=1.21.1 in d:\\programas\\anaconda\\lib\\site-packages (from requests) (1.26.9)\n"
     ]
    }
   ],
   "source": [
    "!pip install requests"
   ]
  },
  {
   "cell_type": "code",
   "execution_count": 2,
   "id": "87b95775",
   "metadata": {},
   "outputs": [],
   "source": [
    "import requests"
   ]
  },
  {
   "cell_type": "code",
   "execution_count": 4,
   "id": "b6a278ed",
   "metadata": {},
   "outputs": [
    {
     "name": "stdout",
     "output_type": "stream",
     "text": [
      "200\n"
     ]
    }
   ],
   "source": [
    "url = 'https://api.exchangerate-api.com/v6/latest'\n",
    "\n",
    "req = requests.get(url)\n",
    "\n",
    "print (req.status_code)"
   ]
  },
  {
   "cell_type": "code",
   "execution_count": 6,
   "id": "740afd88",
   "metadata": {},
   "outputs": [
    {
     "name": "stdout",
     "output_type": "stream",
     "text": [
      "{'result': 'success', 'provider': 'https://www.exchangerate-api.com', 'documentation': 'https://www.exchangerate-api.com/docs/free', 'terms_of_use': 'https://www.exchangerate-api.com/terms', 'time_last_update_unix': 1659484952, 'time_last_update_utc': 'Wed, 03 Aug 2022 00:02:32 +0000', 'time_next_update_unix': 1659573342, 'time_next_update_utc': 'Thu, 04 Aug 2022 00:35:42 +0000', 'time_eol_unix': 0, 'base_code': 'USD', 'rates': {'USD': 1, 'AED': 3.67, 'AFN': 89.62, 'ALL': 113.68, 'AMD': 406.27, 'ANG': 1.79, 'AOA': 433.52, 'ARS': 132.07, 'AUD': 1.44, 'AWG': 1.79, 'AZN': 1.7, 'BAM': 1.92, 'BBD': 2, 'BDT': 93.9, 'BGN': 1.92, 'BHD': 0.376, 'BIF': 2022.76, 'BMD': 1, 'BND': 1.38, 'BOB': 6.87, 'BRL': 5.21, 'BSD': 1, 'BTN': 78.52, 'BWP': 12.59, 'BYN': 2.58, 'BZD': 2, 'CAD': 1.29, 'CDF': 1994.82, 'CHF': 0.956, 'CLP': 891.97, 'CNY': 6.76, 'COP': 4287.41, 'CRC': 668.41, 'CUP': 24, 'CVE': 108.29, 'CZK': 24.2, 'DJF': 177.72, 'DKK': 7.33, 'DOP': 54.4, 'DZD': 146.08, 'EGP': 19.01, 'ERN': 15, 'ETB': 52.34, 'EUR': 0.982, 'FJD': 2.19, 'FKP': 0.821, 'FOK': 7.33, 'GBP': 0.821, 'GEL': 2.74, 'GGP': 0.821, 'GHS': 9.02, 'GIP': 0.821, 'GMD': 54.34, 'GNF': 8604.17, 'GTQ': 7.73, 'GYD': 208.06, 'HKD': 7.85, 'HNL': 24.54, 'HRK': 7.4, 'HTG': 118.35, 'HUF': 390.33, 'IDR': 14873.52, 'ILS': 3.37, 'IMP': 0.821, 'INR': 78.52, 'IQD': 1451.34, 'IRR': 41978.75, 'ISK': 135.94, 'JEP': 0.821, 'JMD': 153.05, 'JOD': 0.709, 'JPY': 132.46, 'KES': 119.46, 'KGS': 83.07, 'KHR': 4074.09, 'KID': 1.44, 'KMF': 483.15, 'KRW': 1309.54, 'KWD': 0.3, 'KYD': 0.833, 'KZT': 475, 'LAK': 16995.08, 'LBP': 1507.5, 'LKR': 355.4, 'LRD': 154.1, 'LSL': 16.72, 'LYD': 4.85, 'MAD': 10.3, 'MDL': 19.3, 'MGA': 4097.55, 'MKD': 60.1, 'MMK': 1834.09, 'MNT': 3138.74, 'MOP': 8.09, 'MRU': 37.07, 'MUR': 45.1, 'MVR': 15.43, 'MWK': 1036.39, 'MXN': 20.69, 'MYR': 4.44, 'MZN': 64.52, 'NAD': 16.72, 'NGN': 416.31, 'NIO': 35.86, 'NOK': 9.75, 'NPR': 125.62, 'NZD': 1.6, 'OMR': 0.384, 'PAB': 1, 'PEN': 3.91, 'PGK': 3.53, 'PHP': 55.55, 'PKR': 238.35, 'PLN': 4.62, 'PYG': 6876.89, 'QAR': 3.64, 'RON': 4.83, 'RSD': 115, 'RUB': 60.35, 'RWF': 1063.33, 'SAR': 3.75, 'SBD': 8.03, 'SCR': 12.8, 'SDG': 565.44, 'SEK': 10.22, 'SGD': 1.38, 'SHP': 0.821, 'SLE': 13.82, 'SLL': 13820.44, 'SOS': 565.38, 'SRD': 23.88, 'SSP': 644.69, 'STN': 24.06, 'SYP': 2515.93, 'SZL': 16.72, 'THB': 36.18, 'TJS': 10.27, 'TMT': 3.5, 'TND': 2.9, 'TOP': 2.32, 'TRY': 17.95, 'TTD': 6.74, 'TVD': 1.44, 'TWD': 29.91, 'TZS': 2332.86, 'UAH': 36.8, 'UGX': 3881.2, 'UYU': 40.98, 'UZS': 10974.81, 'VES': 5.8, 'VND': 23345.51, 'VUV': 116.69, 'WST': 2.63, 'XAF': 644.2, 'XCD': 2.7, 'XDR': 0.755, 'XOF': 644.2, 'XPF': 117.19, 'YER': 250.59, 'ZAR': 16.72, 'ZMW': 16.04, 'ZWL': 453.65}}\n"
     ]
    }
   ],
   "source": [
    "dados = req.json()\n",
    "\n",
    "print(dados)"
   ]
  },
  {
   "cell_type": "code",
   "execution_count": 7,
   "id": "d4957e0a",
   "metadata": {},
   "outputs": [
    {
     "name": "stdout",
     "output_type": "stream",
     "text": [
      "Informe o valor em R$ a ser convertido \n",
      "200\n",
      "R$200.0 em dolar valem US$38.39\n"
     ]
    }
   ],
   "source": [
    "valor_reais = float(input(\"Informe o valor em R$ a ser convertido \\n\"))\n",
    "cotacao = dados['rates']['BRL']\n",
    "print(f'R${valor_reais} em dolar valem US${(valor_reais/cotacao):.2f}')"
   ]
  },
  {
   "cell_type": "code",
   "execution_count": null,
   "id": "d577249c",
   "metadata": {},
   "outputs": [],
   "source": []
  }
 ],
 "metadata": {
  "kernelspec": {
   "display_name": "Python 3 (ipykernel)",
   "language": "python",
   "name": "python3"
  },
  "language_info": {
   "codemirror_mode": {
    "name": "ipython",
    "version": 3
   },
   "file_extension": ".py",
   "mimetype": "text/x-python",
   "name": "python",
   "nbconvert_exporter": "python",
   "pygments_lexer": "ipython3",
   "version": "3.9.12"
  }
 },
 "nbformat": 4,
 "nbformat_minor": 5
}
